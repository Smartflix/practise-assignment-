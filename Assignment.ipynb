{
 "cells": [
  {
   "cell_type": "code",
   "execution_count": null,
   "id": "e7c6fe44",
   "metadata": {},
   "outputs": [],
   "source": [
    "# Integer"
   ]
  },
  {
   "cell_type": "code",
   "execution_count": null,
   "id": "754de5e7",
   "metadata": {},
   "outputs": [],
   "source": [
    "2000"
   ]
  },
  {
   "cell_type": "code",
   "execution_count": null,
   "id": "e48dd1ae",
   "metadata": {},
   "outputs": [],
   "source": [
    "type(200)"
   ]
  },
  {
   "cell_type": "code",
   "execution_count": null,
   "id": "bbf2341a",
   "metadata": {},
   "outputs": [],
   "source": [
    "12.5"
   ]
  },
  {
   "cell_type": "code",
   "execution_count": null,
   "id": "7a194a15",
   "metadata": {},
   "outputs": [],
   "source": [
    "type(12.5)"
   ]
  },
  {
   "cell_type": "code",
   "execution_count": null,
   "id": "6e510c2a",
   "metadata": {},
   "outputs": [],
   "source": [
    "# basic arithemetic\n",
    "\n",
    "10+10"
   ]
  },
  {
   "cell_type": "code",
   "execution_count": null,
   "id": "f01bd70a",
   "metadata": {},
   "outputs": [],
   "source": [
    "4*3"
   ]
  },
  {
   "cell_type": "code",
   "execution_count": null,
   "id": "c31c4235",
   "metadata": {},
   "outputs": [],
   "source": [
    "4/3"
   ]
  },
  {
   "cell_type": "code",
   "execution_count": null,
   "id": "386d0434",
   "metadata": {},
   "outputs": [],
   "source": [
    "4-1"
   ]
  },
  {
   "cell_type": "code",
   "execution_count": null,
   "id": "18ce6d89",
   "metadata": {},
   "outputs": [],
   "source": [
    "# floor division\n",
    "4//3"
   ]
  },
  {
   "cell_type": "code",
   "execution_count": null,
   "id": "1b2f3f08",
   "metadata": {},
   "outputs": [],
   "source": [
    "5//2"
   ]
  },
  {
   "cell_type": "code",
   "execution_count": null,
   "id": "39dba44b",
   "metadata": {},
   "outputs": [],
   "source": [
    "# modulo\n",
    "5%2"
   ]
  },
  {
   "cell_type": "code",
   "execution_count": null,
   "id": "5d331e56",
   "metadata": {},
   "outputs": [],
   "source": [
    "4%3"
   ]
  },
  {
   "cell_type": "code",
   "execution_count": null,
   "id": "0741ec19",
   "metadata": {},
   "outputs": [],
   "source": [
    "2500//40"
   ]
  },
  {
   "cell_type": "code",
   "execution_count": null,
   "id": "18662a68",
   "metadata": {},
   "outputs": [],
   "source": [
    "2500%40"
   ]
  },
  {
   "cell_type": "code",
   "execution_count": null,
   "id": "048b4a70",
   "metadata": {},
   "outputs": [],
   "source": [
    "# raise to power \n",
    "2**4"
   ]
  },
  {
   "cell_type": "code",
   "execution_count": null,
   "id": "adf13881",
   "metadata": {},
   "outputs": [],
   "source": [
    "3**4"
   ]
  },
  {
   "cell_type": "code",
   "execution_count": null,
   "id": "7549f44e",
   "metadata": {},
   "outputs": [],
   "source": [
    "# bodmas\n",
    "1+3/10*6"
   ]
  },
  {
   "cell_type": "code",
   "execution_count": null,
   "id": "0b086557",
   "metadata": {},
   "outputs": [],
   "source": [
    "(1+3)/(10*6)"
   ]
  },
  {
   "cell_type": "code",
   "execution_count": null,
   "id": "d0513b30",
   "metadata": {},
   "outputs": [],
   "source": [
    "(1+3)/10*6"
   ]
  },
  {
   "cell_type": "code",
   "execution_count": null,
   "id": "54ee44db",
   "metadata": {},
   "outputs": [],
   "source": [
    "# variable assignment\n",
    "income = 2000\n",
    "income"
   ]
  },
  {
   "cell_type": "code",
   "execution_count": null,
   "id": "300bcfe2",
   "metadata": {},
   "outputs": [],
   "source": [
    "income +income"
   ]
  },
  {
   "cell_type": "code",
   "execution_count": null,
   "id": "26eef771",
   "metadata": {},
   "outputs": [],
   "source": [
    "income*income"
   ]
  },
  {
   "cell_type": "code",
   "execution_count": null,
   "id": "989398d3",
   "metadata": {},
   "outputs": [],
   "source": [
    "income**2"
   ]
  },
  {
   "cell_type": "code",
   "execution_count": null,
   "id": "1428754a",
   "metadata": {},
   "outputs": [],
   "source": [
    "income/2"
   ]
  },
  {
   "cell_type": "code",
   "execution_count": null,
   "id": "fb50b6e6",
   "metadata": {},
   "outputs": [],
   "source": [
    "jeffery=income/100\n",
    "jeffery"
   ]
  },
  {
   "cell_type": "code",
   "execution_count": null,
   "id": "c2c80c6a",
   "metadata": {},
   "outputs": [],
   "source": [
    "# test calculator\n",
    "f_test= 7\n",
    "s_test= 20\n",
    "attandance= 5\n",
    "exam =27\n",
    "total_score = f_test + s_test + attandance + exam\n",
    "total_score"
   ]
  },
  {
   "cell_type": "code",
   "execution_count": null,
   "id": "8740ea4d",
   "metadata": {},
   "outputs": [],
   "source": [
    "# interactive test calculator\n",
    "f_test= float(input('what is your first test score ?' ))\n",
    "s_test= float(input('what is your second test score ?'))\n",
    "attandance= float(input('what is your attendance ?'))\n",
    "exam = float(input('what is your exam score ? '))\n",
    "total_score = f_test + s_test + attandance + exam\n",
    "total_score\n"
   ]
  },
  {
   "cell_type": "code",
   "execution_count": null,
   "id": "01ca72aa",
   "metadata": {},
   "outputs": [],
   "source": [
    "# strings \n",
    "\"hello world\""
   ]
  },
  {
   "cell_type": "code",
   "execution_count": null,
   "id": "31da6a3f",
   "metadata": {},
   "outputs": [],
   "source": [
    "# double quotaion marks \n",
    "\"he isn't my friend\""
   ]
  },
  {
   "cell_type": "code",
   "execution_count": null,
   "id": "08d4d20f",
   "metadata": {},
   "outputs": [],
   "source": [
    "# full name generator\n",
    "first_name = \"Geoffery\"\n",
    "last_name = \"Joshua\"\n",
    "full_name = first_name + \" \" + last_name\n",
    "full_name\n"
   ]
  },
  {
   "cell_type": "code",
   "execution_count": null,
   "id": "e8aae95a",
   "metadata": {},
   "outputs": [],
   "source": [
    "# interactive name generator\n",
    "first_name = str(input (\"what is your first name ? \"))\n",
    "last_name =str(input (\"what is your last_name name ? \"))\n",
    "full_name = first_name + \" \" + last_name\n",
    "full_name"
   ]
  },
  {
   "cell_type": "code",
   "execution_count": null,
   "id": "aa35c0ba",
   "metadata": {},
   "outputs": [],
   "source": [
    "# indexing and slicing\n",
    "full_name.upper()"
   ]
  },
  {
   "cell_type": "code",
   "execution_count": null,
   "id": "9fac7fee",
   "metadata": {},
   "outputs": [],
   "source": [
    "full_name[0]"
   ]
  },
  {
   "cell_type": "code",
   "execution_count": null,
   "id": "2f00f4d4",
   "metadata": {},
   "outputs": [],
   "source": [
    "full_name[8]"
   ]
  },
  {
   "cell_type": "code",
   "execution_count": null,
   "id": "71b87bfd",
   "metadata": {},
   "outputs": [],
   "source": [
    "# slicing\n",
    "full_name[0:8]"
   ]
  },
  {
   "cell_type": "code",
   "execution_count": null,
   "id": "cb813358",
   "metadata": {},
   "outputs": [],
   "source": [
    "full_name[9:]"
   ]
  },
  {
   "cell_type": "code",
   "execution_count": null,
   "id": "0c55f684",
   "metadata": {},
   "outputs": [],
   "source": [
    "num=('123456789')\n",
    "num"
   ]
  },
  {
   "cell_type": "code",
   "execution_count": null,
   "id": "09179b36",
   "metadata": {},
   "outputs": [],
   "source": [
    "num[0:5]"
   ]
  },
  {
   "cell_type": "code",
   "execution_count": null,
   "id": "5dc62432",
   "metadata": {},
   "outputs": [],
   "source": [
    "num[5:]"
   ]
  },
  {
   "cell_type": "code",
   "execution_count": null,
   "id": "1956b17f",
   "metadata": {},
   "outputs": [],
   "source": [
    "# negative indexing and slicing\n",
    "num[-1]"
   ]
  },
  {
   "cell_type": "code",
   "execution_count": null,
   "id": "52ed9b4f",
   "metadata": {},
   "outputs": [],
   "source": [
    "num[1::2]"
   ]
  },
  {
   "cell_type": "code",
   "execution_count": null,
   "id": "2fd0be52",
   "metadata": {},
   "outputs": [],
   "source": [
    "num[1::5]"
   ]
  },
  {
   "cell_type": "code",
   "execution_count": null,
   "id": "b8cc1aaa",
   "metadata": {},
   "outputs": [],
   "source": [
    "# for odd numbers\n",
    "num[0::2]"
   ]
  },
  {
   "cell_type": "code",
   "execution_count": 1,
   "id": "6beaff8e",
   "metadata": {},
   "outputs": [
    {
     "name": "stdout",
     "output_type": "stream",
     "text": [
      "my name is Jeffery and i am 35 years old \n"
     ]
    }
   ],
   "source": [
    "\n",
    "# .format method\n",
    "name = \"Jeffery\"\n",
    "agge = 35\n",
    "print (\"my name is %s and i am %s years old \" %(name,agge))\n",
    "\n",
    "\n"
   ]
  },
  {
   "cell_type": "code",
   "execution_count": 2,
   "id": "003e731b",
   "metadata": {},
   "outputs": [
    {
     "name": "stdout",
     "output_type": "stream",
     "text": [
      "what is your name ? jeffery\n",
      "how old are you ? 12\n",
      "my name is jeffery and i am 12 years old\n"
     ]
    }
   ],
   "source": [
    "# place holder method\n",
    "name =input('what is your name ? ')\n",
    "age = str(input('how old are you ? '))\n",
    "print(\"my name is %s and i am %s years old\" %(name,age))\n"
   ]
  },
  {
   "cell_type": "code",
   "execution_count": null,
   "id": "e21bcb7d",
   "metadata": {},
   "outputs": [],
   "source": [
    "# f string\n",
    "name = input('what is your name ? ')\n",
    "age = input('how old are you ? ')\n",
    "print(f\"my name is {name} and i am {age} years old\")"
   ]
  },
  {
   "cell_type": "code",
   "execution_count": null,
   "id": "c3c7a227",
   "metadata": {},
   "outputs": [],
   "source": [
    "# list\n",
    "names=['jeffery','obi','buhari','nifemi','10gloria','10analytics']\n",
    "names \n",
    "names.append('femi')\n",
    "names.reverse()\n",
    "names\n",
    "names.sort()\n",
    "names"
   ]
  },
  {
   "cell_type": "code",
   "execution_count": null,
   "id": "d4396ece",
   "metadata": {},
   "outputs": [],
   "source": [
    "my_list=[1,2,'ok','dayo',8]\n",
    "my_list"
   ]
  },
  {
   "cell_type": "code",
   "execution_count": null,
   "id": "60b07320",
   "metadata": {},
   "outputs": [],
   "source": [
    "type(my_list)"
   ]
  },
  {
   "cell_type": "code",
   "execution_count": null,
   "id": "17c5211b",
   "metadata": {},
   "outputs": [],
   "source": [
    "my_list[0]"
   ]
  },
  {
   "cell_type": "code",
   "execution_count": null,
   "id": "e18edbba",
   "metadata": {},
   "outputs": [],
   "source": [
    "# to add item to a list\n",
    "my_list[0]=10\n",
    "my_list"
   ]
  },
  {
   "cell_type": "code",
   "execution_count": null,
   "id": "5338d6e2",
   "metadata": {},
   "outputs": [],
   "source": [
    "my_list[4]"
   ]
  },
  {
   "cell_type": "code",
   "execution_count": null,
   "id": "9e493896",
   "metadata": {},
   "outputs": [],
   "source": [
    "my_list[0:3]"
   ]
  },
  {
   "cell_type": "code",
   "execution_count": null,
   "id": "22bdf013",
   "metadata": {},
   "outputs": [],
   "source": [
    "my_list[1::2]"
   ]
  },
  {
   "cell_type": "code",
   "execution_count": null,
   "id": "3dc05198",
   "metadata": {},
   "outputs": [],
   "source": [
    "# to add a name to my_list use .append\n",
    "my_list.append('samuel')\n",
    "my_list"
   ]
  },
  {
   "cell_type": "code",
   "execution_count": null,
   "id": "6f6e6851",
   "metadata": {},
   "outputs": [],
   "source": [
    "# to remove the last name added use the .pop\n",
    "my_list.pop()\n",
    "my_list"
   ]
  },
  {
   "cell_type": "code",
   "execution_count": null,
   "id": "3ddcc4de",
   "metadata": {},
   "outputs": [],
   "source": [
    "# to re arrange the list fromright to left  we use the .reverse\n",
    "my_list.reverse()\n",
    "my_list\n"
   ]
  },
  {
   "cell_type": "code",
   "execution_count": null,
   "id": "d4194ebf",
   "metadata": {},
   "outputs": [],
   "source": [
    "# dictionaries\n",
    "my_dict={\"key1\":\"value1\",\"key2\":\"value 2\"}\n",
    "my_dict"
   ]
  },
  {
   "cell_type": "code",
   "execution_count": null,
   "id": "2b9e0262",
   "metadata": {},
   "outputs": [],
   "source": [
    "my_dict.keys()"
   ]
  },
  {
   "cell_type": "code",
   "execution_count": null,
   "id": "94ac5256",
   "metadata": {},
   "outputs": [],
   "source": [
    "my_dict.values()"
   ]
  },
  {
   "cell_type": "code",
   "execution_count": null,
   "id": "ab99a062",
   "metadata": {},
   "outputs": [],
   "source": [
    "my_dict['key1']"
   ]
  },
  {
   "cell_type": "code",
   "execution_count": null,
   "id": "e1081be9",
   "metadata": {},
   "outputs": [],
   "source": [
    "bio_data ={'name':'joshua','age':32,'place of birth':'ikorodu','phone number':'07065127866'}\n",
    "bio_data"
   ]
  },
  {
   "cell_type": "code",
   "execution_count": null,
   "id": "e6d9df93",
   "metadata": {},
   "outputs": [],
   "source": [
    "bio_data['name']"
   ]
  },
  {
   "cell_type": "code",
   "execution_count": null,
   "id": "6bad934c",
   "metadata": {},
   "outputs": [],
   "source": [
    "bio_data['place of birth']"
   ]
  },
  {
   "cell_type": "code",
   "execution_count": null,
   "id": "e5ebf59a",
   "metadata": {},
   "outputs": [],
   "source": [
    "# to add anything to a dictionary\n",
    "bio_data['colour']= 'black'\n",
    "bio_data"
   ]
  },
  {
   "cell_type": "code",
   "execution_count": null,
   "id": "097422b2",
   "metadata": {},
   "outputs": [],
   "source": [
    "# you can add a list to a dictionary also\n",
    "bio_data['my_siblins']= ['zino','bola','bola']\n",
    "bio_data"
   ]
  },
  {
   "cell_type": "code",
   "execution_count": null,
   "id": "1a550a94",
   "metadata": {},
   "outputs": [],
   "source": [
    "# to return a name from the list\n",
    "bio_data['my_siblins']"
   ]
  },
  {
   "cell_type": "code",
   "execution_count": null,
   "id": "b948d776",
   "metadata": {},
   "outputs": [],
   "source": [
    "# to return the first name we make use of indexing\n",
    "bio_data['my_siblins'][0]"
   ]
  },
  {
   "cell_type": "code",
   "execution_count": null,
   "id": "56668957",
   "metadata": {},
   "outputs": [],
   "source": [
    "# tuple\n",
    "tup=(2,5,'10Analytic','Gloria','geoffery')\n",
    "tup"
   ]
  },
  {
   "cell_type": "code",
   "execution_count": null,
   "id": "650c34d5",
   "metadata": {},
   "outputs": [],
   "source": [
    "type(tup)"
   ]
  },
  {
   "cell_type": "code",
   "execution_count": null,
   "id": "36ac3410",
   "metadata": {},
   "outputs": [],
   "source": [
    "tup[0]"
   ]
  },
  {
   "cell_type": "code",
   "execution_count": null,
   "id": "756d0677",
   "metadata": {},
   "outputs": [],
   "source": [
    "tup[4]"
   ]
  },
  {
   "cell_type": "code",
   "execution_count": null,
   "id": "5b2ef295",
   "metadata": {},
   "outputs": [],
   "source": [
    "tup[-1]"
   ]
  },
  {
   "cell_type": "code",
   "execution_count": null,
   "id": "13f1983d",
   "metadata": {},
   "outputs": [],
   "source": [
    "len(tup)"
   ]
  },
  {
   "cell_type": "code",
   "execution_count": null,
   "id": "3318e2ae",
   "metadata": {},
   "outputs": [],
   "source": [
    "tup[2]='nigeria'"
   ]
  },
  {
   "cell_type": "code",
   "execution_count": null,
   "id": "837e1dcf",
   "metadata": {},
   "outputs": [],
   "source": [
    "# set\n",
    "num={1,2,2,3,4,4,4,4,6,6,7,7,88,8,8,89,0,10,23,56,77,89,99}\n",
    "num"
   ]
  },
  {
   "cell_type": "code",
   "execution_count": null,
   "id": "c527da81",
   "metadata": {},
   "outputs": [],
   "source": [
    "names = ['ademola','sunday','orimolade','sunday','suluaiman','ademola','sunday','sunday']\n",
    "u_name=set(names)\n",
    "u_name"
   ]
  },
  {
   "cell_type": "code",
   "execution_count": null,
   "id": "953f603a",
   "metadata": {},
   "outputs": [],
   "source": [
    "u_name.add('einstein')\n",
    "u_name"
   ]
  },
  {
   "cell_type": "code",
   "execution_count": null,
   "id": "d6c6368c",
   "metadata": {},
   "outputs": [],
   "source": [
    "len(u_name)"
   ]
  },
  {
   "cell_type": "code",
   "execution_count": null,
   "id": "5da92579",
   "metadata": {},
   "outputs": [],
   "source": [
    "# boolean\n",
    "1==2"
   ]
  },
  {
   "cell_type": "code",
   "execution_count": null,
   "id": "e7a821c0",
   "metadata": {},
   "outputs": [],
   "source": [
    "type(1==2)"
   ]
  },
  {
   "cell_type": "code",
   "execution_count": null,
   "id": "672430ea",
   "metadata": {},
   "outputs": [],
   "source": [
    "'e'=='e'"
   ]
  },
  {
   "cell_type": "code",
   "execution_count": null,
   "id": "a46fad91",
   "metadata": {},
   "outputs": [],
   "source": [
    "'geoffery'!='geoffery'"
   ]
  },
  {
   "cell_type": "code",
   "execution_count": null,
   "id": "805b5214",
   "metadata": {},
   "outputs": [],
   "source": [
    "type('geoffery'!='geoffery')"
   ]
  },
  {
   "cell_type": "code",
   "execution_count": 4,
   "id": "131bb41f",
   "metadata": {},
   "outputs": [
    {
     "name": "stdout",
     "output_type": "stream",
     "text": [
      "what is your nameyemi\n",
      "what is your age12\n"
     ]
    },
    {
     "data": {
      "text/plain": [
       "6"
      ]
     },
     "execution_count": 4,
     "metadata": {},
     "output_type": "execute_result"
    }
   ],
   "source": [
    "def sum_age(x,y):\n",
    "    first_name=input('what is your name')\n",
    "    age= input('what is your age')\n",
    "    sum_age = x**2 + 7- y\n",
    "    return sum_age\n",
    "sum_age(2,5)\n"
   ]
  },
  {
   "cell_type": "code",
   "execution_count": null,
   "id": "bf219bdb",
   "metadata": {},
   "outputs": [],
   "source": []
  },
  {
   "cell_type": "code",
   "execution_count": 9,
   "id": "ad00a8d0",
   "metadata": {},
   "outputs": [
    {
     "name": "stdout",
     "output_type": "stream",
     "text": [
      "enter your name  rice\n"
     ]
    },
    {
     "data": {
      "text/plain": [
       "'RICE'"
      ]
     },
     "execution_count": 9,
     "metadata": {},
     "output_type": "execute_result"
    }
   ],
   "source": [
    "def your_first_name():\n",
    "    first_name=input ('enter your name  ')\n",
    "    capitalize_first_name = first_name.upper()\n",
    "    return capitalize_first_name\n",
    "your_first_name()\n"
   ]
  },
  {
   "cell_type": "code",
   "execution_count": 23,
   "id": "09863e04",
   "metadata": {},
   "outputs": [
    {
     "name": "stdout",
     "output_type": "stream",
     "text": [
      "2 ---------is an even number\n",
      "4 ---------is an even number\n",
      "6 ---------is an even number\n",
      "8 ---------is an even number\n",
      "10 ---------is an even number\n"
     ]
    }
   ],
   "source": [
    "list_1= [1,2,3,4,5,6,7,8,9,10]\n",
    "for i in list_1:\n",
    "    if i%2==0:\n",
    "        print(f\"{i} ---------is an even number\")"
   ]
  },
  {
   "cell_type": "code",
   "execution_count": 18,
   "id": "64b32569",
   "metadata": {},
   "outputs": [
    {
     "name": "stdout",
     "output_type": "stream",
     "text": [
      "1\n",
      "3\n",
      "6\n",
      "10\n",
      "15\n",
      "21\n",
      "28\n",
      "36\n",
      "45\n",
      "55\n"
     ]
    }
   ],
   "source": [
    "list= [1,2,3,4,5,6,7,8,9,10]\n",
    "sum_1 = 0\n",
    "for i in list :\n",
    "    sum_1 = sum_1 +i\n",
    "    print(sum_1)\n",
    "    "
   ]
  },
  {
   "cell_type": "code",
   "execution_count": null,
   "id": "12a6e4a2",
   "metadata": {},
   "outputs": [],
   "source": []
  }
 ],
 "metadata": {
  "kernelspec": {
   "display_name": "Python 3 (ipykernel)",
   "language": "python",
   "name": "python3"
  },
  "language_info": {
   "codemirror_mode": {
    "name": "ipython",
    "version": 3
   },
   "file_extension": ".py",
   "mimetype": "text/x-python",
   "name": "python",
   "nbconvert_exporter": "python",
   "pygments_lexer": "ipython3",
   "version": "3.9.12"
  }
 },
 "nbformat": 4,
 "nbformat_minor": 5
}
